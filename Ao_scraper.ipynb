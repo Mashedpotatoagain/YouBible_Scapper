{
  "nbformat": 4,
  "nbformat_minor": 0,
  "metadata": {
    "colab": {
      "provenance": [],
      "include_colab_link": true
    },
    "kernelspec": {
      "name": "python3",
      "display_name": "Python 3"
    },
    "language_info": {
      "name": "python"
    }
  },
  "cells": [
    {
      "cell_type": "markdown",
      "metadata": {
        "id": "view-in-github",
        "colab_type": "text"
      },
      "source": [
        "<a href=\"https://colab.research.google.com/github/Mashedpotatoagain/YouBible_Scapper/blob/main/Ao_scraper.ipynb\" target=\"_parent\"><img src=\"https://colab.research.google.com/assets/colab-badge.svg\" alt=\"Open In Colab\"/></a>"
      ]
    },
    {
      "cell_type": "code",
      "source": [
        "from bs4 import BeautifulSoup\n",
        "import requests\n",
        "import time\n",
        "\n",
        "\n",
        "verse_urls = [\n",
        "    {\"url\":\"https://www.bible.com/bible/406/{}.{}.EASY\", \"lang\":\"english\"},\n",
        "    {\"url\":\"https://www.bible.com/bible/3663/{}.{}.ANSEBSI\", \"lang\": \"ao\"}\n",
        "]"
      ],
      "metadata": {
        "id": "mKhrE8mYeLxB"
      },
      "execution_count": 20,
      "outputs": []
    },
    {
      "cell_type": "code",
      "source": [
        "# each book\n",
        "books = [\n",
        "    \"GEN\",\n",
        "    \"EXO\",\n",
        "]\n",
        "\n",
        "chapters = [\n",
        "    50,\n",
        "    40,\n",
        "]"
      ],
      "metadata": {
        "id": "qPgojIoTwZ-_"
      },
      "execution_count": 21,
      "outputs": []
    },
    {
      "cell_type": "code",
      "source": [
        "def extract_verses(soup):\n",
        "\n",
        "  verses=[]\n",
        "  previous_verse= 1\n",
        "  content_verses = soup.find_all(\"span\", class_=\"ChapterContent_verse__57FIw\")\n",
        "\n",
        "  for content_verse in content_verses:\n",
        "      verse_label=content_verse.find(\"span\", class_=\"ChapterContent_label__R2PLt\")\n",
        "      verse_number=\"\"\n",
        "      if verse_label is not None:\n",
        "        verse_number=verse_label.get_text(strip=True)\n",
        "        try:\n",
        "          previous_verse=int(verse_number)\n",
        "        except:\n",
        "          verse_number=\"\"\n",
        "\n",
        "      verse=content_verse.find_all(\"span\", class_=\"ChapterContent_content__RrUqA\")\n",
        "      line= [verse_line.get_text(strip=True, separator=' ') for verse_line in verse]\n",
        "      verse_text = \" \".join(line)\n",
        "\n",
        "      if verse_number==\"\":\n",
        "        prev_verse = verses[previous_verse-1]\n",
        "        prev_verse[\"text\"]+= verse_text.strip()\n",
        "        verses[previous_verse-1] = prev_verse\n",
        "\n",
        "      else:\n",
        "        verses.append({\"no\": verse_number, \"text\": verse_text.strip()})\n",
        "  return verses\n",
        "\n"
      ],
      "metadata": {
        "id": "hdB8pYmTmTVu"
      },
      "execution_count": 22,
      "outputs": []
    },
    {
      "source": [
        "def extract_verses(soup):\n",
        "  verses = []\n",
        "  previous_verse = 0\n",
        "\n",
        "  for verse in soup.find_all(\"span\", attrs={\"class\": \"verse\"}):\n",
        "    verse_number = verse.find(\"a\", attrs={\"class\": \"verse-number\"})\n",
        "    if verse_number is not None:\n",
        "      verse_number = verse_number.text\n",
        "    else:\n",
        "      verse_number = \"\"\n",
        "\n",
        "    verse_text = verse.find(\"span\", attrs={\"class\": \"verse-text\"})\n",
        "    if verse_text is not None:\n",
        "      verse_text = verse_text.text\n",
        "\n",
        "    if verse_number == \"\":\n",
        "      prev_verse = verses[previous_verse - 1]\n",
        "      prev_verse[\"text\"] += verse_text.strip()\n",
        "      verses[previous_verse - 1] = prev_verse\n",
        "    else:\n",
        "      verses.append({\"number\": verse_number, \"text\": verse_text})\n",
        "      previous_verse += 1\n",
        "\n",
        "  return verses"
      ],
      "cell_type": "code",
      "metadata": {
        "id": "2jxm2FjENwTp"
      },
      "execution_count": 23,
      "outputs": []
    },
    {
      "cell_type": "code",
      "source": [
        "def scrapeChapter(book, chapter):\n",
        "  soup = []\n",
        "  results = {\n",
        "    \"book\": book,\n",
        "    \"chapter\": chapter,\n",
        "  }\n",
        "\n",
        "  for idx, chapterInfo in enumerate(verse_urls):\n",
        "      page_to_scrape = requests.get(chapterInfo[\"url\"].format(book, chapter))\n",
        "      soup.append(BeautifulSoup(page_to_scrape.text, \"html.parser\"))\n",
        "\n",
        "  lang_1_verses = extract_verses(soup[0])\n",
        "  lang_2_verses = extract_verses(soup[1])\n",
        "\n",
        "  results[verse_urls[0][\"lang\"]] = lang_1_verses\n",
        "  results[verse_urls[1][\"lang\"]] = lang_2_verses\n",
        "\n",
        "\n",
        "  return results"
      ],
      "metadata": {
        "id": "Mx6QussteTt2"
      },
      "execution_count": 24,
      "outputs": []
    },
    {
      "cell_type": "code",
      "source": [
        "# wait for 2 minutes after scraping 5 chapters\n",
        "\n",
        "results = []\n",
        "for book_index in range(len(books)):\n",
        "  book = books[book_index]\n",
        "  max_chapter = chapters[book_index]\n",
        "\n",
        "  # for demo, adding limit to limit reading 2 chapters per book\n",
        "  limit = 2\n",
        "\n",
        "  for chapter in range(1, max_chapter+1):\n",
        "    # implement the waiting/delaying between each chapter reading. ie. for every 5 chapters read, etc.\n",
        "    # can remove these 2 lines if you don't want limit\n",
        "    if limit > 2:\n",
        "      break\n",
        "    results.append(scrapeChapter(book, str(chapter)))"
      ],
      "metadata": {
        "id": "VkRpzH3rvg3B"
      },
      "execution_count": 25,
      "outputs": []
    },
    {
      "cell_type": "code",
      "source": [
        "# to get the output txt, run this\n",
        "\n",
        "english_lines = []\n",
        "ao_lines = []\n",
        "\n",
        "for result in results:\n",
        "\n",
        "  for verse_index in range(len(result[\"english\"])):\n",
        "\n",
        "    verse_en = result[\"english\"][verse_index]\n",
        "    english_lines.append(verse_en[\"text\"]+ \"\\n\")\n",
        "\n",
        "    verse_ao = result[\"ao\"][verse_index]\n",
        "    ao_lines.append(verse_ao[\"text\"]+\"\\n\")\n",
        "\n",
        "\n",
        "with open(\"english.txt\", \"w\") as f:\n",
        "  f.writelines(english_lines)\n",
        "\n",
        "  f.close()\n",
        "\n",
        "\n",
        "with open(\"ao.txt\", \"w\") as f:\n",
        "  f.writelines(ao_lines)\n",
        "\n",
        "  f.close()\n",
        "\n",
        "\n",
        "\n",
        "\n",
        "\n",
        "\n"
      ],
      "metadata": {
        "id": "Fm5pWAQ11x_l"
      },
      "execution_count": 26,
      "outputs": []
    },
    {
      "cell_type": "code",
      "source": [],
      "metadata": {
        "id": "GU50HSMadYL4"
      },
      "execution_count": 26,
      "outputs": []
    }
  ]
}